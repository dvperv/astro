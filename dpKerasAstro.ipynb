{
 "cells": [
  {
   "cell_type": "code",
   "execution_count": 56,
   "metadata": {},
   "outputs": [
    {
     "name": "stdout",
     "output_type": "stream",
     "text": [
      "1.12.0\n"
     ]
    }
   ],
   "source": [
    "# TensorFlow and tf.keras\n",
    "import tensorflow as tf\n",
    "from tensorflow import keras\n",
    "\n",
    "# Helper libraries\n",
    "import numpy as np\n",
    "import matplotlib.pyplot as plt\n",
    "\n",
    "print(tf.__version__)"
   ]
  },
  {
   "cell_type": "code",
   "execution_count": 58,
   "metadata": {},
   "outputs": [],
   "source": [
    "from sklearn.model_selection import train_test_split\n",
    "\n",
    "import os\n",
    "import numpy as np\n",
    "\n",
    "cwd = r\"C:\\astrodata\"\n",
    "os.chdir(cwd)\n",
    "compressedNpDataFile = r'savedNpAstro_2.0n.npz'\n",
    "\n",
    "loaded = np.load(compressedNpDataFile)\n",
    "\n",
    "X_train, X_test, y_train, y_test = train_test_split(loaded['D'], loaded['L'], test_size=0.33, random_state=42)\n",
    "\n",
    "loaded.close()"
   ]
  },
  {
   "cell_type": "code",
   "execution_count": 74,
   "metadata": {},
   "outputs": [
    {
     "name": "stdout",
     "output_type": "stream",
     "text": [
      "Epoch 1/5\n",
      "55674/55674 [==============================] - 12s 211us/step - loss: 1.7804 - acc: 0.3834\n",
      "Epoch 2/5\n",
      "55674/55674 [==============================] - 9s 164us/step - loss: 1.6789 - acc: 0.3845\n",
      "Epoch 3/5\n",
      "55674/55674 [==============================] - 9s 161us/step - loss: 1.6774 - acc: 0.3845\n",
      "Epoch 4/5\n",
      "55674/55674 [==============================] - 9s 163us/step - loss: 1.6776 - acc: 0.3845\n",
      "Epoch 5/5\n",
      "55674/55674 [==============================] - 9s 165us/step - loss: 1.6759 - acc: 0.3846\n"
     ]
    },
    {
     "data": {
      "text/plain": [
       "array([[2.64143101e-06, 2.01846465e-06, 2.19479279e-06, ...,\n",
       "        2.09852591e-06, 1.72861664e-06, 2.40969832e-06],\n",
       "       [2.83994380e-06, 2.21944494e-06, 2.39813529e-06, ...,\n",
       "        2.11914287e-06, 1.74886752e-06, 2.43177604e-06],\n",
       "       [2.68849059e-06, 2.06630772e-06, 2.24095088e-06, ...,\n",
       "        2.08474980e-06, 1.71466998e-06, 2.39454772e-06],\n",
       "       ...,\n",
       "       [5.80207401e-06, 5.14792936e-06, 5.44811296e-06, ...,\n",
       "        2.09654963e-06, 1.72387052e-06, 2.40487139e-06],\n",
       "       [2.73505531e-06, 2.11340874e-06, 2.28908769e-06, ...,\n",
       "        2.13493899e-06, 1.76702775e-06, 2.44717057e-06],\n",
       "       [2.68863417e-06, 2.06671649e-06, 2.23992815e-06, ...,\n",
       "        2.08446100e-06, 1.71235393e-06, 2.39379810e-06]])"
      ]
     },
     "execution_count": 74,
     "metadata": {},
     "output_type": "execute_result"
    }
   ],
   "source": [
    "model = keras.Sequential([\n",
    "    keras.layers.Dense(100, activation=tf.nn.relu),\n",
    "    keras.layers.Dense(51, activation=tf.nn.softmax)\n",
    "])\n",
    "\n",
    "model.compile(optimizer=tf.train.AdamOptimizer(), \n",
    "              loss='sparse_categorical_crossentropy',\n",
    "              metrics=['accuracy'])\n",
    "\n",
    "model.fit(X_train, y_train, epochs=5)\n",
    "\n",
    "X_train"
   ]
  },
  {
   "cell_type": "code",
   "execution_count": null,
   "metadata": {},
   "outputs": [],
   "source": []
  }
 ],
 "metadata": {
  "kernelspec": {
   "display_name": "Python 3",
   "language": "python",
   "name": "python3"
  },
  "language_info": {
   "codemirror_mode": {
    "name": "ipython",
    "version": 3
   },
   "file_extension": ".py",
   "mimetype": "text/x-python",
   "name": "python",
   "nbconvert_exporter": "python",
   "pygments_lexer": "ipython3",
   "version": "3.6.7"
  }
 },
 "nbformat": 4,
 "nbformat_minor": 2
}
