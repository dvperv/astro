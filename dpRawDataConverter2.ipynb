{
 "cells": [
  {
   "cell_type": "code",
   "execution_count": 27,
   "metadata": {},
   "outputs": [
    {
     "name": "stdout",
     "output_type": "stream",
     "text": [
      "83096\n",
      "[[2.77040268e-06 2.14858260e-06 2.32643257e-06 ... 2.15690487e-06\n",
      "  1.79078632e-06 2.47528324e-06]\n",
      " [2.77358307e-06 2.14751265e-06 2.32636773e-06 ... 2.15674442e-06\n",
      "  1.78561053e-06 2.46822099e-06]\n",
      " [2.77238614e-06 2.15536195e-06 2.33028458e-06 ... 2.15611100e-06\n",
      "  1.78734847e-06 2.46853025e-06]\n",
      " ...\n",
      " [2.68267956e-06 2.06146585e-06 2.23459186e-06 ... 2.17311419e-06\n",
      "  1.80489590e-06 2.48691424e-06]\n",
      " [2.77547025e-06 2.14781578e-06 2.32959540e-06 ... 2.17669378e-06\n",
      "  1.81134384e-06 2.48804865e-06]\n",
      " [2.77133587e-06 2.14895770e-06 2.32897320e-06 ... 2.17389921e-06\n",
      "  1.80693620e-06 2.48752989e-06]]\n",
      "[50 50 50 ...  0 10 10]\n",
      "83096\n"
     ]
    }
   ],
   "source": [
    "import os\n",
    "import numpy as np\n",
    "import struct\n",
    "from sklearn import preprocessing\n",
    "\n",
    "cwd = r\"C:\\astrodata\\temp\"\n",
    "os.chdir(cwd)\n",
    "\n",
    "astro_id = [] # np.ndarray(shape=(2), dtype=int, order='C')\n",
    "astro_data = [] # np.ndarray(shape=(300, 6), dtype=float, order='C')\n",
    "astro_label = [] # np.ndarray(shape=(1), dtype=int, order='C')\n",
    "\n",
    "count = 0\n",
    "\n",
    "for file in os.listdir(cwd):\n",
    "    count += 1\n",
    "#     if count >= 10:\n",
    "#         break\n",
    "    \n",
    "    nnId, rest = file.split(\"_\")\n",
    "    nnray, label = rest.split(\".\")\n",
    "    \n",
    "    astro_id.append([int(nnId), int(nnray)])\n",
    "    astro_label.append(int(label) - 101)\n",
    "    \n",
    "    with open(file, mode='rb') as file: # b is important -> binary\n",
    "        fileContent = file.read()\n",
    "        \n",
    "        for data in struct.iter_unpack(\"f\", fileContent):\n",
    "            astro_data.append(data[0])\n",
    "            \n",
    "min_max_scaler = preprocessing.MinMaxScaler()\n",
    "astro_data_norm = min_max_scaler.fit_transform(np.resize(np.array(astro_data), (count, 1800)))\n",
    "npAstroD = astro_data_norm\n",
    "npAstroL = np.array(astro_label)\n",
    "# npAstroD\n",
    "\n",
    "print(count)\n",
    "os.chdir('..')\n",
    "compressedNpDataFile = r'savedNpAstro_2.0n.npz'\n",
    "\n",
    "np.savez_compressed(compressedNpDataFile, D=npAstroD, L=npAstroL)\n",
    "\n",
    "loaded = np.load(compressedNpDataFile)\n",
    "\n",
    "print(loaded['D'])\n",
    "print(loaded['L'])\n",
    "print(loaded['L'].size)\n",
    "\n",
    "loaded.close()"
   ]
  }
 ],
 "metadata": {
  "kernelspec": {
   "display_name": "Python 3",
   "language": "python",
   "name": "python3"
  },
  "language_info": {
   "codemirror_mode": {
    "name": "ipython",
    "version": 3
   },
   "file_extension": ".py",
   "mimetype": "text/x-python",
   "name": "python",
   "nbconvert_exporter": "python",
   "pygments_lexer": "ipython3",
   "version": "3.6.7"
  }
 },
 "nbformat": 4,
 "nbformat_minor": 2
}
